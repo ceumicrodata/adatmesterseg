{
 "cells": [
  {
   "cell_type": "code",
   "execution_count": null,
   "metadata": {
    "collapsed": true
   },
   "outputs": [],
   "source": [
    "import re"
   ]
  },
  {
   "cell_type": "code",
   "execution_count": null,
   "metadata": {
    "collapsed": false
   },
   "outputs": [],
   "source": [
    "def rendszam_e(szoveg):\n",
    "    '''\n",
    "    True ha ervenyes magyar rendszam, False ha nem.\n",
    "    https://regexper.com/#%5E%5BA-Z%5D%7B3%7D%5B0-9%5D%7B3%7D%24\n",
    "    '''\n",
    "    return re.match(r'^[A-Z]{3}[0-9]{3}$', szoveg) is not None\n",
    "for szoveg in ['ABC123', 'abc123', 'ABC1234', 'ABC-123']:\n",
    "    print(szoveg, rendszam_e(szoveg))"
   ]
  },
  {
   "cell_type": "code",
   "execution_count": null,
   "metadata": {
    "collapsed": false
   },
   "outputs": [],
   "source": [
    "'Első feladat: írd át a függvényt, hogy az ABC-123 is megfeleljen!'"
   ]
  },
  {
   "cell_type": "code",
   "execution_count": null,
   "metadata": {
    "collapsed": false
   },
   "outputs": [],
   "source": [
    "'Második feladat: írd át a függvény, hogy az abc123 is megfeleljen!'"
   ]
  },
  {
   "cell_type": "code",
   "execution_count": null,
   "metadata": {
    "collapsed": false
   },
   "outputs": [],
   "source": [
    "def hirdetmeny_link_e(url):\n",
    "    '''\n",
    "    írj függvényt, ami True-t ad vissza, ha az URL közbeszerzési hirdetményre mutat!\n",
    "    \n",
    "    Pl 'http://ceumicrodata.github.io/regi.kozbeszerzes.hu/static/KEarchiv/04087/6221.html' -> True\n",
    "    'http://ceumicrodata.github.io/regi.kozbeszerzes.hu/static/KEarchiv/04087/elozok.html' -> False\n",
    "    '''\n",
    "\n",
    "    \n",
    "assert hirdetmeny_link_e('http://ceumicrodata.github.io/regi.kozbeszerzes.hu/static/KEarchiv/04087/6221.html') is True\n",
    "assert hirdetmeny_link_e('http://ceumicrodata.github.io/regi.kozbeszerzes.hu/static/KEarchiv/04089/19920.html') is True\n",
    "assert hirdetmeny_link_e('http://ceumicrodata.github.io/regi.kozbeszerzes.hu/static/KEarchiv/04087/elozok.html') is False\n",
    "assert hirdetmeny_link_e('http://index.hu') is False"
   ]
  },
  {
   "cell_type": "code",
   "execution_count": null,
   "metadata": {
    "collapsed": false
   },
   "outputs": [],
   "source": [
    "def hirdetmeny_iktatasi_szam(url):\n",
    "    '''\n",
    "    írj függvényt, ami az URL-ből kinyeri közbeszerzési hirdetményre iktatási számát!\n",
    "    \n",
    "    Pl 'http://ceumicrodata.github.io/regi.kozbeszerzes.hu/static/KEarchiv/04087/6221.html' -> '6221'\n",
    "    '''\n",
    "\n",
    "    \n",
    "assert hirdetmeny_iktatasi_szam('http://ceumicrodata.github.io/regi.kozbeszerzes.hu/static/KEarchiv/04087/6221.html')=='6221'\n",
    "assert hirdetmeny_iktatasi_szam('http://ceumicrodata.github.io/regi.kozbeszerzes.hu/static/KEarchiv/04087/19920.html')=='19920'"
   ]
  },
  {
   "cell_type": "code",
   "execution_count": null,
   "metadata": {
    "collapsed": true
   },
   "outputs": [],
   "source": []
  }
 ],
 "metadata": {
  "kernelspec": {
   "display_name": "Python 2",
   "language": "python",
   "name": "python2"
  },
  "language_info": {
   "codemirror_mode": {
    "name": "ipython",
    "version": 2
   },
   "file_extension": ".py",
   "mimetype": "text/x-python",
   "name": "python",
   "nbconvert_exporter": "python",
   "pygments_lexer": "ipython2",
   "version": "2.7.5"
  }
 },
 "nbformat": 4,
 "nbformat_minor": 0
}
