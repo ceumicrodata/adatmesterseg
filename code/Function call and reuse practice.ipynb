{
 "cells": [
  {
   "cell_type": "code",
   "execution_count": null,
   "metadata": {
    "collapsed": true
   },
   "outputs": [],
   "source": [
    "# helper function, ezt nem kell atirni\n",
    "def egyjegyu_szamma_alakit(szoveg):\n",
    "    SZAMOK = {\n",
    "        'egy': 1,\n",
    "        'kettő': 2,\n",
    "        'három': 3,\n",
    "        'négy': 4,\n",
    "        'öt': 5,\n",
    "        'hat': 6,\n",
    "        'hét': 7,\n",
    "        'nyolc': 8,\n",
    "        'kilenc': 9,\n",
    "        }\n",
    "    if szoveg.lower() in SZAMOK:\n",
    "        return SZAMOK[szoveg.lower()]\n",
    "    else:\n",
    "        return None"
   ]
  },
  {
   "cell_type": "code",
   "execution_count": null,
   "metadata": {
    "collapsed": false
   },
   "outputs": [],
   "source": [
    "print(type(egyjegyu_szamma_alakit))\n",
    "print(egyjegyu_szamma_alakit('három'))\n",
    "print(type('három'))\n",
    "print(type(egyjegyu_szamma_alakit('három')))"
   ]
  },
  {
   "cell_type": "code",
   "execution_count": null,
   "metadata": {
    "collapsed": false
   },
   "outputs": [],
   "source": [
    "def egyjegyu_szamok_listaja(szoveg):\n",
    "    '''\n",
    "    Adott egy egyjegyű számokat szóközzel elválasztó szöveg, pl.\n",
    "    'három egy négy egy öt kilenc kettő hat öt három hat'.\n",
    "    Írd meg ezt a függvényt, hogy alakítsa számmá:\n",
    "    31415926536\n",
    "    '''\n",
    "print(egyjegyu_szamok_listaja('egy kettő három négy'))\n",
    "assert egyjegyu_szamok_listaja('egy kettő három négy')==1234"
   ]
  },
  {
   "cell_type": "code",
   "execution_count": null,
   "metadata": {
    "collapsed": false
   },
   "outputs": [],
   "source": [
    "def ketjegyu_szamma_alakit(szoveg):\n",
    "    '''\n",
    "    Adott egy kétjegyű szám szöveggel leíva. Tudjuk róla, hogy 29 vagy kisebb.\n",
    "    Alakítsd számmá, pl.\n",
    "    'huszonöt' -> 25\n",
    "    '''\n",
    "print(ketjegyu_szamma_alakit('tizenhat'))\n",
    "assert ketjegyu_szamma_alakit('tizenhat')==16"
   ]
  },
  {
   "cell_type": "code",
   "execution_count": null,
   "metadata": {
    "collapsed": true
   },
   "outputs": [],
   "source": []
  }
 ],
 "metadata": {
  "kernelspec": {
   "display_name": "Python 2",
   "language": "python",
   "name": "python2"
  },
  "language_info": {
   "codemirror_mode": {
    "name": "ipython",
    "version": 2
   },
   "file_extension": ".py",
   "mimetype": "text/x-python",
   "name": "python",
   "nbconvert_exporter": "python",
   "pygments_lexer": "ipython2",
   "version": "2.7.5"
  }
 },
 "nbformat": 4,
 "nbformat_minor": 0
}
