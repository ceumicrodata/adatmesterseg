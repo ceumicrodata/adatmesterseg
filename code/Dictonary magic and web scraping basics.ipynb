{
 "cells": [
  {
   "cell_type": "markdown",
   "metadata": {},
   "source": [
    "Web scraping\n",
    "============\n",
    "Próbáljunk meg információt kinyerni a [Közbeszerzési Értesítőből](http://ceumicrodata.github.io/regi.kozbeszerzes.hu/static/KEarchiv/index.html)!\n",
    "\n",
    "1. Felderítés\n",
    "-------------\n",
    "\n",
    "- Milyen adatok vannak az oldalon?\n",
    "- Hogyan érem el az oldalakat? (Lásd http request/response később.)\n",
    "- Van-e valami egyértelmű mintája az URL-eknek?\n",
    "- Szabad-e robotot használnom? `robots.txt`\n",
    "- Van-e valamelyien \"védelem\" az oldalon? (Session, cookie, jelszó, javascript, captcha.)\n",
    "\n",
    "2. Letöltés\n",
    "-----------\n",
    "\n",
    "- [Hogy működik a web?](http://code.tutsplus.com/tutorials/http-the-protocol-every-web-developer-must-know-part-1--net-31177)\n",
    "- [`requests`, egy Python library](http://docs.python-requests.org/en/latest/user/quickstart/)\n",
    "- Megoldási módok:\n",
    "  - brute force: Végigsétálunk a letöltendő oldalak listáján, és mindet letöltjük.\n",
    "  - crawl: Egy pontból kiindulva a nekünk kellő linkeket végigkövetjük. \n",
    "  - search: Az oldal keresőjére támaszkodva \"crawl\"-olunk.\n",
    "\n",
    "3. Adatkinyerés\n",
    "---------------\n",
    "\n",
    "4. Adatmentés\n",
    "-------------\n",
    "\n",
    "Működő scraper példák\n",
    "=====================\n",
    "\n",
    "- https://morph.io/korenmiklos/hu_domains\n",
    "- http://kozbeszerzes.ceu.hu/howtouse.xhtml\n",
    "- https://github.com/ceumicrodata/valasztas-terkep"
   ]
  },
  {
   "cell_type": "code",
   "execution_count": null,
   "metadata": {
    "collapsed": false
   },
   "outputs": [],
   "source": [
    "import requests\n",
    "from datetime import datetime\n",
    "from time import sleep"
   ]
  },
  {
   "cell_type": "code",
   "execution_count": null,
   "metadata": {
    "collapsed": false
   },
   "outputs": [],
   "source": [
    "response = requests.get('http://ceumicrodata.github.io/regi.kozbeszerzes.hu/static/KEarchiv/index.html')"
   ]
  },
  {
   "cell_type": "code",
   "execution_count": null,
   "metadata": {
    "collapsed": false
   },
   "outputs": [],
   "source": [
    "print(response.status_code)\n",
    "print(response.apparent_encoding)\n",
    "print(response.content.decode('ISO-8859-2'))"
   ]
  },
  {
   "cell_type": "code",
   "execution_count": null,
   "metadata": {
    "collapsed": false
   },
   "outputs": [],
   "source": [
    "def mock_download(url):\n",
    "    '''\n",
    "    Csinaljunk ugy, mintha letoltottunk volna valamit.\n",
    "    '''\n",
    "    print('Most eppen toltom le.....')\n",
    "    return '<html><body>Ez a {url} tartalma.</body></html>'.format(url=url)\n",
    "print(mock_download('http://index.hu'))\n",
    "print(mock_download('http://ceumicrodata.github.io/regi.kozbeszerzes.hu/static/KEarchiv/index.html'))"
   ]
  },
  {
   "cell_type": "code",
   "execution_count": null,
   "metadata": {
    "collapsed": true
   },
   "outputs": [],
   "source": [
    "def egyszer_letolt(url, cache):\n",
    "    '''\n",
    "    A cache egy dictionary, ami az URL-hez rendeli az oldal letoltott tartalmat, pl\n",
    "    {'http://index.hu': '<html>...</html>', 'http://origo.hu': '<html>...</html>'}.\n",
    "    \n",
    "    A fuggveny a megadott URL-t csak akkor tolti le, ha a cache-ben meg nem szerepel.\n",
    "    Ekkor letolti, es beleteszi a cache-be.\n",
    "    \n",
    "    A letoltesre hasznald a mock_download() fuggvenyt! Majd erre is irunk fuggvenyt kesobb.\n",
    "    '''"
   ]
  },
  {
   "cell_type": "code",
   "execution_count": null,
   "metadata": {
    "collapsed": false
   },
   "outputs": [],
   "source": [
    "cache = {}\n",
    "egyszer_letolt('http://index.hu', cache)\n",
    "egyszer_letolt('http://ceumicrodata.github.io/regi.kozbeszerzes.hu/static/KEarchiv/index.html', cache)\n",
    "egyszer_letolt('http://index.hu', cache)\n"
   ]
  },
  {
   "cell_type": "code",
   "execution_count": null,
   "metadata": {
    "collapsed": false
   },
   "outputs": [],
   "source": [
    "def most():\n",
    "    return datetime.now()\n",
    "\n",
    "def regi(timestamp, time_to_live=3000):\n",
    "    return (most()-timestamp).total_seconds()>time_to_live\n",
    "akkor = most()\n",
    "# varjunk 20 masodpercet\n",
    "sleep(20)\n",
    "print(regi(akkor, time_to_live=120)) #False\n",
    "print(regi(akkor, time_to_live=10)) #True"
   ]
  },
  {
   "cell_type": "code",
   "execution_count": null,
   "metadata": {
    "collapsed": true
   },
   "outputs": [],
   "source": [
    "def frissen_letolt(url, cache, time_to_live=10):\n",
    "    '''\n",
    "    A cache egy dictionary, ami az URL-hez rendeli az oldal letoltott tartalmat, es a letoltes idejet, pl\n",
    "    {'http://index.hu': \n",
    "        {'content': '<html>...</html>',\n",
    "        'timestamp': <timestamp object>}.\n",
    "    \n",
    "    A fuggveny a megadott URL-t csak akkor tolti le, ha a cache-ben meg nem szerepel,\n",
    "    vagy szerepel, de 'time_to_live' masodpercnel regebbi. Ez utobbi ellenorzesere hasznald a\n",
    "    most() es a regi() fuggvenyt, ezeket egyelore nem kell ertenunk.\n",
    "    \n",
    "    Ekkor letolti, es beleteszi a cache-be.\n",
    "    \n",
    "    A letoltesre hasznald a mock_download() fuggvenyt! Majd erre is irunk fuggvenyt kesobb.\n",
    "    '''"
   ]
  },
  {
   "cell_type": "code",
   "execution_count": null,
   "metadata": {
    "collapsed": false
   },
   "outputs": [],
   "source": [
    "cache = {}\n",
    "frissen_letolt('http://index.hu', cache, time_to_live=10)\n",
    "frissen_letolt('http://index.hu', cache, time_to_live=10)\n",
    "assert regi(cache['http://index.hu']['timestamp']) is False\n",
    "sleep(12)\n",
    "frissen_letolt('http://index.hu', cache, time_to_live=10)\n"
   ]
  },
  {
   "cell_type": "code",
   "execution_count": null,
   "metadata": {
    "collapsed": true
   },
   "outputs": [],
   "source": [
    "def regi_urlek_listaja(cache, time_to_live=10):\n",
    "    '''\n",
    "    A cache egy fenti formaju dictionary. A fuggveny listaban visszaadja a\n",
    "    'time_to_live'-nel regebbi URL-eket. Ha megvan a megoldas, probald meg\n",
    "    list comprehensionnel is megcsinalni!\n",
    "    '''"
   ]
  },
  {
   "cell_type": "code",
   "execution_count": null,
   "metadata": {
    "collapsed": true
   },
   "outputs": [],
   "source": [
    "def real_download(url):\n",
    "    '''\n",
    "    A requests modul hasznalataval toltsd le az URL-t, es a fuggveny adja vissza a tartalmat!\n",
    "    \n",
    "    Ha a status code nem 200, akkor adjon vissza egy ures stringet!\n",
    "    '''"
   ]
  },
  {
   "cell_type": "code",
   "execution_count": null,
   "metadata": {
    "collapsed": false
   },
   "outputs": [],
   "source": []
  },
  {
   "cell_type": "code",
   "execution_count": null,
   "metadata": {
    "collapsed": false
   },
   "outputs": [],
   "source": []
  },
  {
   "cell_type": "code",
   "execution_count": null,
   "metadata": {
    "collapsed": true
   },
   "outputs": [],
   "source": []
  }
 ],
 "metadata": {
  "kernelspec": {
   "display_name": "Python 3",
   "language": "python",
   "name": "python3"
  },
  "language_info": {
   "codemirror_mode": {
    "name": "ipython",
    "version": 3
   },
   "file_extension": ".py",
   "mimetype": "text/x-python",
   "name": "python",
   "nbconvert_exporter": "python",
   "pygments_lexer": "ipython3",
   "version": "3.5.1"
  }
 },
 "nbformat": 4,
 "nbformat_minor": 0
}
