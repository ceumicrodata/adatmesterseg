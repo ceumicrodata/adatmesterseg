{
 "cells": [
  {
   "cell_type": "markdown",
   "metadata": {},
   "source": [
    "# Class3 hexdump házi"
   ]
  },
  {
   "cell_type": "markdown",
   "metadata": {},
   "source": [
    "### 1. `tohex2(byte)` függvény máshogy\n",
    "\n",
    "Az új `tohex2()` a beépített `hex()` függvényt használja, de csak egyszer! (a `tohex1()`-et egyszer se!)\n",
    "\n",
    "Segítség: a `hex()` függvény eredménye majdnem jó, de azért még kell az eredményen alakítani utólag, mert \n",
    "- elé rak egy `'0x'`-et (megoldás: string slice)\n",
    "- 10-15 közti számjegyek kisbetűsek (pedig nagybetűsnek szeretnénk - `upper()`)\n",
    "- 0-15-ig a számokat egyjegyűként konvertálja (mi mindig két jegyűként szeretnénk, még ha az első `'0'` is)"
   ]
  },
  {
   "cell_type": "code",
   "execution_count": 1,
   "metadata": {
    "collapsed": false
   },
   "outputs": [
    {
     "ename": "AssertionError",
     "evalue": "Got '0x80' instead of '80'",
     "output_type": "error",
     "traceback": [
      "\u001b[1;31m---------------------------------------------------------------------------\u001b[0m",
      "\u001b[1;31mAssertionError\u001b[0m                            Traceback (most recent call last)",
      "\u001b[1;32m<ipython-input-1-d9e4b063b3d3>\u001b[0m in \u001b[0;36m<module>\u001b[1;34m()\u001b[0m\n\u001b[0;32m     11\u001b[0m         'Got %r instead of %r' % (actual_result, result))\n\u001b[0;32m     12\u001b[0m \u001b[1;33m\u001b[0m\u001b[0m\n\u001b[1;32m---> 13\u001b[1;33m \u001b[0mexpect\u001b[0m\u001b[1;33m(\u001b[0m\u001b[1;34m'80'\u001b[0m\u001b[1;33m,\u001b[0m \u001b[0mtohex2\u001b[0m\u001b[1;33m(\u001b[0m\u001b[1;36m128\u001b[0m\u001b[1;33m)\u001b[0m\u001b[1;33m)\u001b[0m\u001b[1;33m\u001b[0m\u001b[0m\n\u001b[0m\u001b[0;32m     14\u001b[0m \u001b[0mexpect\u001b[0m\u001b[1;33m(\u001b[0m\u001b[1;34m'FF'\u001b[0m\u001b[1;33m,\u001b[0m \u001b[0mtohex2\u001b[0m\u001b[1;33m(\u001b[0m\u001b[1;36m255\u001b[0m\u001b[1;33m)\u001b[0m\u001b[1;33m)\u001b[0m\u001b[1;33m\u001b[0m\u001b[0m\n\u001b[0;32m     15\u001b[0m \u001b[0mexpect\u001b[0m\u001b[1;33m(\u001b[0m\u001b[1;34m'01'\u001b[0m\u001b[1;33m,\u001b[0m \u001b[0mtohex2\u001b[0m\u001b[1;33m(\u001b[0m\u001b[1;36m1\u001b[0m\u001b[1;33m)\u001b[0m\u001b[1;33m)\u001b[0m\u001b[1;33m\u001b[0m\u001b[0m\n",
      "\u001b[1;32m<ipython-input-1-d9e4b063b3d3>\u001b[0m in \u001b[0;36mexpect\u001b[1;34m(result, actual_result)\u001b[0m\n\u001b[0;32m      9\u001b[0m     '''\n\u001b[0;32m     10\u001b[0m     assert actual_result == result, (\n\u001b[1;32m---> 11\u001b[1;33m         'Got %r instead of %r' % (actual_result, result))\n\u001b[0m\u001b[0;32m     12\u001b[0m \u001b[1;33m\u001b[0m\u001b[0m\n\u001b[0;32m     13\u001b[0m \u001b[0mexpect\u001b[0m\u001b[1;33m(\u001b[0m\u001b[1;34m'80'\u001b[0m\u001b[1;33m,\u001b[0m \u001b[0mtohex2\u001b[0m\u001b[1;33m(\u001b[0m\u001b[1;36m128\u001b[0m\u001b[1;33m)\u001b[0m\u001b[1;33m)\u001b[0m\u001b[1;33m\u001b[0m\u001b[0m\n",
      "\u001b[1;31mAssertionError\u001b[0m: Got '0x80' instead of '80'"
     ]
    }
   ],
   "source": [
    "def tohex2(byte):\n",
    "    # ez még nem jó, de már közel van - javítsd ki!\n",
    "    return hex(byte)\n",
    "\n",
    "\n",
    "def expect(result, actual_result):\n",
    "    '''\n",
    "    assert helyett - ez kiírja a várt értéket és a kapott eredményt\n",
    "    '''\n",
    "    assert actual_result == result, (\n",
    "        'Got %r instead of %r' % (actual_result, result))\n",
    "\n",
    "expect('80', tohex2(128))\n",
    "expect('FF', tohex2(255))\n",
    "expect('01', tohex2(1))\n",
    "expect('0B', tohex2(11))\n"
   ]
  },
  {
   "cell_type": "markdown",
   "metadata": {},
   "source": [
    "### 2. `tohex8(bytes)`\n",
    "\n",
    "(`for` loop és stringek kezelésének gyakorlása, unit 8 után mennie kell)"
   ]
  },
  {
   "cell_type": "code",
   "execution_count": null,
   "metadata": {
    "collapsed": false
   },
   "outputs": [],
   "source": [
    "def tohex8(bytes):\n",
    "    assert len(bytes) == 8\n",
    "    # ennél bonyolultabb a megoldás - cseréld le!\n",
    "    return ' 00 00 00 00 00 00 00 00'\n",
    "\n",
    "\n",
    "expect(' 00 00 00 00 00 00 00 00', tohex8([0, 0, 0, 0, 0, 0, 0, 0]))\n",
    "expect(' 00 01 0F 00 00 00 80 FF', tohex8([0, 1, 15, 0, 0, 0, 128, 255]))\n"
   ]
  }
 ],
 "metadata": {
  "kernelspec": {
   "display_name": "Python 3",
   "language": "python",
   "name": "python3"
  },
  "language_info": {
   "codemirror_mode": {
    "name": "ipython",
    "version": 3
   },
   "file_extension": ".py",
   "mimetype": "text/x-python",
   "name": "python",
   "nbconvert_exporter": "python",
   "pygments_lexer": "ipython3",
   "version": "3.5.1"
  }
 },
 "nbformat": 4,
 "nbformat_minor": 0
}
